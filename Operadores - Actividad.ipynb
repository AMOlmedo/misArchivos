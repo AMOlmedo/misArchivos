{
 "cells": [
  {
   "cell_type": "markdown",
   "metadata": {},
   "source": [
    "## Operadores - Actividad"
   ]
  },
  {
   "cell_type": "markdown",
   "metadata": {},
   "source": [
    "1) Pedir al usuario dos números y mostrar por pantalla la suma de ellos."
   ]
  },
  {
   "cell_type": "code",
   "execution_count": 2,
   "metadata": {},
   "outputs": [
    {
     "name": "stdout",
     "output_type": "stream",
     "text": [
      "LA SUMA DE LOS DOS NUMEROS ES:  13\n"
     ]
    }
   ],
   "source": [
    "num1 = int(input(\"INGRESE EL PRIMER NUMERO: \"))\n",
    "num2 = int (input(\"INGRESE EL SEGUNDO NUMERO: \"))\n",
    "suma=  num1 + num2\n",
    "print(\"LA SUMA DE LOS DOS NUMEROS ES: \",suma)"
   ]
  },
  {
   "cell_type": "markdown",
   "metadata": {},
   "source": [
    "2) Calcular el perímetro y área de un rectángulo dada su base y su altura (el usuario debe introducir por teclado los dos valores)."
   ]
  },
  {
   "cell_type": "code",
   "execution_count": 3,
   "metadata": {},
   "outputs": [
    {
     "name": "stdout",
     "output_type": "stream",
     "text": [
      " EL PERIMETRO DEL RECTANGULO ES:  30 Y EL AREA ES:  50\n"
     ]
    }
   ],
   "source": [
    "base = int(input(\"INGRESE LA BASE DEL RECTANGULO: \"))\n",
    "altura = int(input(\"INGRESE LA ALTURA DEL RECTACGULO: \"))\n",
    "per = 2*base + 2*altura\n",
    "area =  base * altura\n",
    "print(\" EL PERIMETRO DEL RECTANGULO ES: \", per, \"Y EL AREA ES: \" , area)"
   ]
  },
  {
   "cell_type": "markdown",
   "metadata": {},
   "source": [
    "3) Calcular el resultado de elevar un número entero a otro número entero (por ejemplo, 5 elevado a 3 = 5^3 = 5*5*5)."
   ]
  },
  {
   "cell_type": "code",
   "execution_count": 4,
   "metadata": {},
   "outputs": [
    {
     "name": "stdout",
     "output_type": "stream",
     "text": [
      "EL RESULTADO DE LA OPERACION ES:  125\n"
     ]
    }
   ],
   "source": [
    "base = int(input(\"INGRESE LA BASE: \"))\n",
    "exp = int(input(\"INGRESE EL EXPONENTE: \"))\n",
    "resultado = base ** exp\n",
    "print(\"EL RESULTADO DE LA OPERACION ES: \", resultado)"
   ]
  },
  {
   "cell_type": "markdown",
   "metadata": {},
   "source": [
    "4) Escribe un programa que convierta grados Celsius a grados Fahrenheit utilizando la fórmula: **F = (C * 9/5) + 32**"
   ]
  },
  {
   "cell_type": "code",
   "execution_count": 5,
   "metadata": {},
   "outputs": [
    {
     "name": "stdout",
     "output_type": "stream",
     "text": [
      "LA TEMPERATURA EN GRADOS FAHRENHEIT ES:  68.0\n"
     ]
    }
   ],
   "source": [
    "C = float(input(\"INGRESE LOS GRADOS CELSIUS: \"))\n",
    "F =  float((C * (9/5)) + 32)\n",
    "print(\"LA TEMPERATURA EN GRADOS FAHRENHEIT ES: \", F)"
   ]
  },
  {
   "cell_type": "markdown",
   "metadata": {},
   "source": [
    "5) Pedir al usuario su edad y mostrar por pantalla si es mayor de edad o no. (Mayor de edad >= 18)"
   ]
  },
  {
   "cell_type": "code",
   "execution_count": 6,
   "metadata": {},
   "outputs": [
    {
     "name": "stdout",
     "output_type": "stream",
     "text": [
      "UD ES MAYOR DE EDAD\n"
     ]
    }
   ],
   "source": [
    "edad = int(input(\"INGRESE SU EDAD: \"))\n",
    "if edad >= 18:\n",
    "    print(\"UD ES MAYOR DE EDAD\")\n",
    "else:\n",
    "    print (\"ES UD MENOR DE EDAD\")"
   ]
  },
  {
   "cell_type": "markdown",
   "metadata": {},
   "source": [
    "6) Comprobar si el numero ingresado por el usuario es par o impar."
   ]
  },
  {
   "cell_type": "code",
   "execution_count": 7,
   "metadata": {},
   "outputs": [
    {
     "name": "stdout",
     "output_type": "stream",
     "text": [
      "EL NUMERO ES IMPAR\n"
     ]
    }
   ],
   "source": [
    "num=int(input(\"INGRESE UN NUMERO: \"))\n",
    "var=num%2\n",
    "if var==0:\n",
    "    print(\"EL NUMERO ES PAR\")\n",
    "else: print(\"EL NUMERO ES IMPAR\")"
   ]
  },
  {
   "cell_type": "markdown",
   "metadata": {},
   "source": [
    "7) Pedir al usuario que ingrese su dirección email y luego mostrar un mensaje indicando si la dirección es válida o no. Una dirección se considerará válida si contiene el símbolo \"@\"."
   ]
  },
  {
   "cell_type": "code",
   "execution_count": 8,
   "metadata": {},
   "outputs": [
    {
     "name": "stdout",
     "output_type": "stream",
     "text": [
      "VUELVA A INTENTAR CON OTRA DIRECCCION DE EMAIL VALIDA \n"
     ]
    }
   ],
   "source": [
    "mail=False  \n",
    "for a  in input(\"INGRESE LA DIRECCION DE EMAIL: \"):\n",
    "    if a ==('@'): \n",
    "        mail=True\n",
    "if (mail==True):\n",
    "    print(\"LA DIRECCION DE MAIL ES VALIDA\")\n",
    "else: print(\"VUELVA A INTENTAR CON OTRA DIRECCCION DE EMAIL VALIDA \")"
   ]
  },
  {
   "cell_type": "markdown",
   "metadata": {},
   "source": [
    "8) Dado un número de dos cifras, diseñe un algoritmo que permita obtener el número invertido. Ejemplo, si se introduce 23 que muestre 32. (Recordar que las cadenas pueden tratarse como listas de caracteres)."
   ]
  },
  {
   "cell_type": "markdown",
   "metadata": {},
   "source": []
  },
  {
   "cell_type": "code",
   "execution_count": null,
   "metadata": {},
   "outputs": [],
   "source": []
  },
  {
   "cell_type": "markdown",
   "metadata": {},
   "source": [
    "9) Crea un programa que pida al usuario dos números y muestre True si ambos son mayores que 10."
   ]
  },
  {
   "cell_type": "code",
   "execution_count": 9,
   "metadata": {},
   "outputs": [],
   "source": [
    "num1 = int(input(\"INGRESE EL PRIMER NUMERO: \"))\n",
    "num2 = int(input(\"INGRESE EL SEGUNDO NUMERO: \"))\n",
    "if (num1>10 and num2>10): print(\"TRUE\")"
   ]
  },
  {
   "cell_type": "markdown",
   "metadata": {},
   "source": [
    "10) Escribe un programa que verifique si un número ingresado por el usuario es divisible por 3 y por 5."
   ]
  },
  {
   "cell_type": "code",
   "execution_count": 10,
   "metadata": {},
   "outputs": [
    {
     "name": "stdout",
     "output_type": "stream",
     "text": [
      "EL NUMERO INGRESADO  NOOO ES DIVISIBLE POR 3 Y POR 5\n"
     ]
    }
   ],
   "source": [
    "num = int(input(\"INGRESE UN NUMERO: \"))\n",
    "n3= num%3\n",
    "n5= num%5\n",
    "if( n3==0 and n5==0):print(\"EL NUMERO INGRESADO ES DIVISIBLE POR 3 Y POR 5\")\n",
    "else : print(\"EL NUMERO INGRESADO  NOOO ES DIVISIBLE POR 3 Y POR 5\")"
   ]
  },
  {
   "cell_type": "markdown",
   "metadata": {},
   "source": [
    "11) Utilizando la información del punto 5, preguntar al usuario si posee carnet de conducir, luego verificar si puede conducir un automóvil."
   ]
  },
  {
   "cell_type": "code",
   "execution_count": null,
   "metadata": {},
   "outputs": [],
   "source": [
    "edad = int(input(\"INGRESE SU EDAD: \"))\n",
    "if edad >= 18: print(\"UD ES MAYOR DE EDAD\")\n",
    "tiene = input(\"TIENE UD CARNET DE CONDUCIR?: \")\n",
    "if(tiene == 's' or 'S'  or 'si' or 'SI'): print(\"PUEDE CONDUCIR!\")\n",
    "else :print (\"ES UD MENOR DE EDAD\")"
   ]
  },
  {
   "cell_type": "markdown",
   "metadata": {},
   "source": [
    "12) Pide al usuario un número y verifica si es positivo y no es mayor que 100."
   ]
  },
  {
   "cell_type": "code",
   "execution_count": null,
   "metadata": {},
   "outputs": [],
   "source": [
    "num=int(input(\"INGRESE UN NUMERO: \"))\n",
    "if (num>0 and num<=100): print(\"EL NUMERO \", num,\", ESTA DENTRO DE RANGO\")\n",
    "else: print(\" EL NUMERO INGRESADO ESTA FUERA DE RANGO \")\n"
   ]
  },
  {
   "cell_type": "markdown",
   "metadata": {},
   "source": [
    "13) Crear un programa que valide si un número ingresado por el usuario es par y mayor que 20."
   ]
  },
  {
   "cell_type": "code",
   "execution_count": null,
   "metadata": {},
   "outputs": [],
   "source": [
    "num=int(input(\"INGRESE UN NUMERO: \"))\n",
    "if(num%2 !=0):print(\"EL NUMERO INGRESADO ES IMPAR. CHAU!\")\n",
    "else:\n",
    "   if (num >20):print(\"EL NUMERO ES PAR Y MAYOR QUE 20 \")\n",
    "   else : print (\"EL NUMERO ES PAR, PERO MENOR QUE 20\")"
   ]
  },
  {
   "cell_type": "markdown",
   "metadata": {},
   "source": [
    "14) Dada la variable **numero = 5**, realizar la operación necesaria para que número sea igual a 8. Luego imprimir en pantalla el nuevo valor de número y realizar una nueva operación para que el valor de número sea igual a 4 y mostrar en pantalla el nuevo valor."
   ]
  },
  {
   "cell_type": "code",
   "execution_count": null,
   "metadata": {},
   "outputs": [],
   "source": [
    "numero = 5\n",
    "print(numero)\n",
    "var=numero + 3\n",
    "print(var)\n",
    "var2= int(var/2)\n",
    "print(var2)"
   ]
  },
  {
   "cell_type": "markdown",
   "metadata": {},
   "source": [
    "15) Dadas las variables altura = \"10\" y base = 5, calcular el área de un triángulo y mostrar el resultado en pantalla. ¿Por qué el resultado es un error? ¿Cómo lo corregirías?"
   ]
  },
  {
   "cell_type": "code",
   "execution_count": null,
   "metadata": {},
   "outputs": [],
   "source": [
    "altura=float(input(\"INGRESE LA ALTURA: \"))\n",
    "base =float(input(\"INGRESE AL BASE:\"))\n",
    "area= (base*altura)/2\n",
    "print(\"EL AREA DEL TRIANGULO ES: \" , area)\n",
    "#es necesario convertir la variable del tipo int en float"
   ]
  },
  {
   "cell_type": "markdown",
   "metadata": {},
   "source": [
    "16) Crea un programa que calcule el promedio de tres calificaciones ingresadas por el usuario, y comprobar si el alumno aprobó o no (aprueba con nota mayor a 6)."
   ]
  },
  {
   "cell_type": "code",
   "execution_count": 11,
   "metadata": {},
   "outputs": [
    {
     "name": "stdout",
     "output_type": "stream",
     "text": [
      "LA NOTA ES: 9.0 EL ALUMNO ESTA APROBADO\n"
     ]
    }
   ],
   "source": [
    "nota1=float(input(\"INGRESE LA NOTA #1:\"))\n",
    "nota2=float(input(\"INGRESE LA NOTA #2:\"))\n",
    "nota3=float(input(\"INGRESE LA NOTA #3:\"))\n",
    "prom=(nota1+nota2+nota3)/3\n",
    "if(prom>6):print( \"LA NOTA ES:\" , prom, \"EL ALUMNO ESTA APROBADO\")\n",
    "else:print( \"LA NOTA ES \", prom, \"  EL ALUMNO ESTA DESAPROBADO\")"
   ]
  },
  {
   "cell_type": "markdown",
   "metadata": {},
   "source": [
    "17) Pide al usuario su edad y calcula cuántos días, horas y minutos ha vivido aproximadamente (asumiendo 365 días por año)."
   ]
  },
  {
   "cell_type": "code",
   "execution_count": 12,
   "metadata": {},
   "outputs": [
    {
     "name": "stdout",
     "output_type": "stream",
     "text": [
      "UD A VIVIDO  50 ANIOS DE EDAD, CON   18250 DIAS, CON  438000 HORAS Y  26280000 MINUTOS, APROXIMADAMENTE..!!\n"
     ]
    }
   ],
   "source": [
    "edad=int(input(\"INGRESE SU EDAD: \"))\n",
    "dias=edad*365\n",
    "hora=dias*24\n",
    "minutos=hora*60\n",
    "print(\"UD A VIVIDO \", edad, \"ANIOS DE EDAD, CON  \", dias, \"DIAS, CON \" , hora, \"HORAS Y \", minutos, \"MINUTOS, APROXIMADAMENTE..!!\")"
   ]
  },
  {
   "cell_type": "markdown",
   "metadata": {},
   "source": [
    "18) Crea un programa que verifique si un número ingresado por el usuario es múltiplo de 4 y de 6 al mismo tiempo."
   ]
  },
  {
   "cell_type": "code",
   "execution_count": 13,
   "metadata": {},
   "outputs": [
    {
     "name": "stdout",
     "output_type": "stream",
     "text": [
      "EL NUMERO INGRESADO  NOOO ES DIVISIBLE POR 4 Y POR 6\n"
     ]
    }
   ],
   "source": [
    "num = int(input(\"INGRESE UN NUMERO: \"))\n",
    "n1= num%4\n",
    "n2= num%6\n",
    "if( n1==0 and n2==0): print(\"EL NUMERO INGRESADO ES DIVISIBLE POR 4 Y POR 6 AL MISMO TIEMPO\")\n",
    "else : print(\"EL NUMERO INGRESADO  NOOO ES DIVISIBLE POR 4 Y POR 6\")"
   ]
  },
  {
   "cell_type": "markdown",
   "metadata": {},
   "source": [
    "19) "
   ]
  }
 ],
 "metadata": {
  "kernelspec": {
   "display_name": "Python 3",
   "language": "python",
   "name": "python3"
  },
  "language_info": {
   "codemirror_mode": {
    "name": "ipython",
    "version": 3
   },
   "file_extension": ".py",
   "mimetype": "text/x-python",
   "name": "python",
   "nbconvert_exporter": "python",
   "pygments_lexer": "ipython3",
   "version": "3.12.0"
  }
 },
 "nbformat": 4,
 "nbformat_minor": 2
}
